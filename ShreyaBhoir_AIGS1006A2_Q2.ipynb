{
  "nbformat": 4,
  "nbformat_minor": 0,
  "metadata": {
    "colab": {
      "provenance": [],
      "toc_visible": true
    },
    "kernelspec": {
      "name": "python3",
      "display_name": "Python 3"
    },
    "language_info": {
      "name": "python"
    }
  },
  "cells": [
    {
      "cell_type": "markdown",
      "source": [
        "(a) State the number of training samples. Also, state the number of test samples.\n",
        " No. Training Samples - 8143 No. Test Samples - 9752"
      ],
      "metadata": {
        "id": "YAlJMMVlhX_j"
      }
    },
    {
      "cell_type": "markdown",
      "source": [
        "(b) Run a simulation using TensorFlow and vary the number of hidden units and make a plot."
      ],
      "metadata": {
        "id": "FsjgTeqahlHw"
      }
    },
    {
      "cell_type": "code",
      "execution_count": 30,
      "metadata": {
        "id": "Ek35eITjeM2D"
      },
      "outputs": [],
      "source": [
        "import tensorflow as tf\n",
        "from tensorflow.keras.layers import Dense\n",
        "import pandas as pd\n",
        "import numpy as np\n",
        "import matplotlib.pyplot as plt\n",
        "from sklearn.model_selection import train_test_split"
      ]
    },
    {
      "cell_type": "code",
      "source": [
        "testdata = pd.read_csv('testData.txt', sep=',')\n",
        "traindata = pd.read_csv('trainData.txt', sep=',')\n",
        "\n",
        "testdata.info()"
      ],
      "metadata": {
        "colab": {
          "base_uri": "https://localhost:8080/"
        },
        "id": "1LhiiLYbfHwJ",
        "outputId": "dcba55e6-2b9d-4112-bb4e-c28068c7d51d"
      },
      "execution_count": 31,
      "outputs": [
        {
          "output_type": "stream",
          "name": "stdout",
          "text": [
            "<class 'pandas.core.frame.DataFrame'>\n",
            "Int64Index: 9752 entries, 1 to 9752\n",
            "Data columns (total 7 columns):\n",
            " #   Column         Non-Null Count  Dtype  \n",
            "---  ------         --------------  -----  \n",
            " 0   date           9752 non-null   object \n",
            " 1   Temperature    9752 non-null   float64\n",
            " 2   Humidity       9752 non-null   float64\n",
            " 3   Light          9752 non-null   float64\n",
            " 4   CO2            9752 non-null   float64\n",
            " 5   HumidityRatio  9752 non-null   float64\n",
            " 6   Occupancy      9752 non-null   int64  \n",
            "dtypes: float64(5), int64(1), object(1)\n",
            "memory usage: 609.5+ KB\n"
          ]
        }
      ]
    },
    {
      "cell_type": "code",
      "source": [
        "traindata.info()"
      ],
      "metadata": {
        "colab": {
          "base_uri": "https://localhost:8080/"
        },
        "id": "h1k6LsGbfIY_",
        "outputId": "2bb25732-c5bc-4089-8082-21ab9b534f58"
      },
      "execution_count": 32,
      "outputs": [
        {
          "output_type": "stream",
          "name": "stdout",
          "text": [
            "<class 'pandas.core.frame.DataFrame'>\n",
            "Int64Index: 8143 entries, 1 to 8143\n",
            "Data columns (total 7 columns):\n",
            " #   Column         Non-Null Count  Dtype  \n",
            "---  ------         --------------  -----  \n",
            " 0   date           8143 non-null   object \n",
            " 1   Temperature    8143 non-null   float64\n",
            " 2   Humidity       8143 non-null   float64\n",
            " 3   Light          8143 non-null   float64\n",
            " 4   CO2            8143 non-null   float64\n",
            " 5   HumidityRatio  8143 non-null   float64\n",
            " 6   Occupancy      8143 non-null   int64  \n",
            "dtypes: float64(5), int64(1), object(1)\n",
            "memory usage: 508.9+ KB\n"
          ]
        }
      ]
    },
    {
      "cell_type": "code",
      "source": [
        "X = traindata.iloc[:5000, 1:6]\n",
        "Y = testdata.iloc[:5000, -1:]\n",
        "\n",
        "print(train_x.shape, train_y.shape, test_x.shape, test_y.shape)\n",
        "\n",
        "train_x, test_x, train_y, test_y = train_test_split(X, Y, test_size=0.2, random_state=0)"
      ],
      "metadata": {
        "colab": {
          "base_uri": "https://localhost:8080/"
        },
        "id": "x-9SDahkfYuE",
        "outputId": "c6317852-9ff8-47d2-bb5a-4904ad408fbf"
      },
      "execution_count": 33,
      "outputs": [
        {
          "output_type": "stream",
          "name": "stdout",
          "text": [
            "(4000, 5) (4000, 1) (1000, 5) (1000, 1)\n"
          ]
        }
      ]
    },
    {
      "cell_type": "code",
      "source": [
        "lossfunction = tf.keras.losses.BinaryCrossentropy()\n",
        "model.compile(optimizer= 'adam', loss= lossfunction, metrics=['accuracy'])"
      ],
      "metadata": {
        "id": "lYEt089lfY5P"
      },
      "execution_count": 40,
      "outputs": []
    },
    {
      "cell_type": "code",
      "source": [
        "fitmodel = model.fit(train_x, train_y, epochs=10, validation_split=0.3)"
      ],
      "metadata": {
        "colab": {
          "base_uri": "https://localhost:8080/"
        },
        "id": "PyrZ0K0ffZEY",
        "outputId": "68a49cf8-0082-4e52-96bb-18f72f62e218"
      },
      "execution_count": 56,
      "outputs": [
        {
          "output_type": "stream",
          "name": "stdout",
          "text": [
            "Epoch 1/10\n",
            "88/88 [==============================] - 0s 4ms/step - loss: 0.3905 - accuracy: 0.8329 - val_loss: 0.3817 - val_accuracy: 0.8458\n",
            "Epoch 2/10\n",
            "88/88 [==============================] - 0s 3ms/step - loss: 0.3861 - accuracy: 0.8339 - val_loss: 0.3933 - val_accuracy: 0.8383\n",
            "Epoch 3/10\n",
            "88/88 [==============================] - 0s 3ms/step - loss: 0.3725 - accuracy: 0.8404 - val_loss: 0.3713 - val_accuracy: 0.8542\n",
            "Epoch 4/10\n",
            "88/88 [==============================] - 0s 4ms/step - loss: 0.3869 - accuracy: 0.8339 - val_loss: 0.3776 - val_accuracy: 0.8308\n",
            "Epoch 5/10\n",
            "88/88 [==============================] - 0s 2ms/step - loss: 0.3771 - accuracy: 0.8404 - val_loss: 0.3680 - val_accuracy: 0.8675\n",
            "Epoch 6/10\n",
            "88/88 [==============================] - 0s 2ms/step - loss: 0.5561 - accuracy: 0.8157 - val_loss: 0.3640 - val_accuracy: 0.8275\n",
            "Epoch 7/10\n",
            "88/88 [==============================] - 0s 2ms/step - loss: 0.5242 - accuracy: 0.8164 - val_loss: 0.3929 - val_accuracy: 0.8000\n",
            "Epoch 8/10\n",
            "88/88 [==============================] - 0s 2ms/step - loss: 0.4747 - accuracy: 0.8254 - val_loss: 0.3590 - val_accuracy: 0.8467\n",
            "Epoch 9/10\n",
            "88/88 [==============================] - 0s 2ms/step - loss: 0.4025 - accuracy: 0.8361 - val_loss: 0.3702 - val_accuracy: 0.8392\n",
            "Epoch 10/10\n",
            "88/88 [==============================] - 0s 2ms/step - loss: 0.4016 - accuracy: 0.8354 - val_loss: 0.3582 - val_accuracy: 0.8483\n"
          ]
        }
      ]
    },
    {
      "cell_type": "code",
      "source": [
        "training_loss, training_acc = model.evaluate(train_x, train_y)\n",
        "testing_loss, testing_acc = model.evaluate(test_x, test_y)"
      ],
      "metadata": {
        "colab": {
          "base_uri": "https://localhost:8080/"
        },
        "id": "iRzucHZPfZPI",
        "outputId": "20c86bb5-e0ac-4ed4-f025-6d1ee54742e0"
      },
      "execution_count": 44,
      "outputs": [
        {
          "output_type": "stream",
          "name": "stdout",
          "text": [
            "125/125 [==============================] - 0s 1ms/step - loss: 0.4281 - accuracy: 0.8257\n",
            "32/32 [==============================] - 0s 1ms/step - loss: 0.4343 - accuracy: 0.8220\n"
          ]
        }
      ]
    },
    {
      "cell_type": "code",
      "source": [
        "pred = model.predict(test_x)\n",
        "test_pred = np.argmax(pred, axis = 1)\n",
        "confusion_matrix = tf.math.confusion_matrix(labels= test_y, predictions=test_pred)\n",
        "print(confusion_matrix)"
      ],
      "metadata": {
        "colab": {
          "base_uri": "https://localhost:8080/"
        },
        "id": "28pz_SspfqMI",
        "outputId": "067ae823-531e-461b-a1f6-35a558c0911d"
      },
      "execution_count": 45,
      "outputs": [
        {
          "output_type": "stream",
          "name": "stdout",
          "text": [
            "32/32 [==============================] - 0s 914us/step\n",
            "tf.Tensor(\n",
            "[[804   0]\n",
            " [196   0]], shape=(2, 2), dtype=int32)\n"
          ]
        }
      ]
    },
    {
      "cell_type": "code",
      "source": [
        "fitModel = model.fit(train_x, train_y, epochs = 10, validation_split = 0.3)\n",
        "\n",
        "\n",
        "plt.plot(fitModel.history['accuracy'])\n",
        "plt.plot(fitModel.history['val_accuracy'])\n",
        "plt.legend(['Training accuracy', 'Validation accuracy'])\n",
        "plt.title('Trianing and Validation Accuracies')\n",
        "plt.xlabel('Epoch#')\n",
        "plt.ylabel('Accuracy')"
      ],
      "metadata": {
        "colab": {
          "base_uri": "https://localhost:8080/",
          "height": 695
        },
        "id": "nR3PmfWlfqm3",
        "outputId": "2102b144-888a-4237-a9a5-bfd219f9d3e1"
      },
      "execution_count": 57,
      "outputs": [
        {
          "output_type": "stream",
          "name": "stdout",
          "text": [
            "Epoch 1/10\n",
            "88/88 [==============================] - 0s 2ms/step - loss: 0.3735 - accuracy: 0.8418 - val_loss: 0.6127 - val_accuracy: 0.8075\n",
            "Epoch 2/10\n",
            "88/88 [==============================] - 0s 2ms/step - loss: 0.4344 - accuracy: 0.8296 - val_loss: 0.5412 - val_accuracy: 0.8083\n",
            "Epoch 3/10\n",
            "88/88 [==============================] - 0s 2ms/step - loss: 0.4763 - accuracy: 0.8207 - val_loss: 0.6336 - val_accuracy: 0.7633\n",
            "Epoch 4/10\n",
            "88/88 [==============================] - 0s 3ms/step - loss: 0.3861 - accuracy: 0.8414 - val_loss: 0.6010 - val_accuracy: 0.7833\n",
            "Epoch 5/10\n",
            "88/88 [==============================] - 0s 3ms/step - loss: 0.4710 - accuracy: 0.8275 - val_loss: 0.3922 - val_accuracy: 0.8450\n",
            "Epoch 6/10\n",
            "88/88 [==============================] - 0s 2ms/step - loss: 0.3954 - accuracy: 0.8393 - val_loss: 0.4925 - val_accuracy: 0.8050\n",
            "Epoch 7/10\n",
            "88/88 [==============================] - 0s 2ms/step - loss: 0.3993 - accuracy: 0.8275 - val_loss: 0.4404 - val_accuracy: 0.8133\n",
            "Epoch 8/10\n",
            "88/88 [==============================] - 0s 2ms/step - loss: 0.3848 - accuracy: 0.8443 - val_loss: 0.3632 - val_accuracy: 0.8300\n",
            "Epoch 9/10\n",
            "88/88 [==============================] - 0s 3ms/step - loss: 0.4346 - accuracy: 0.8296 - val_loss: 0.3907 - val_accuracy: 0.8383\n",
            "Epoch 10/10\n",
            "88/88 [==============================] - 0s 3ms/step - loss: 0.4230 - accuracy: 0.8354 - val_loss: 0.4208 - val_accuracy: 0.7958\n"
          ]
        },
        {
          "output_type": "execute_result",
          "data": {
            "text/plain": [
              "Text(0, 0.5, 'Accuracy')"
            ]
          },
          "metadata": {},
          "execution_count": 57
        },
        {
          "output_type": "display_data",
          "data": {
            "text/plain": [
              "<Figure size 432x288 with 1 Axes>"
            ],
            "image/png": "[encoded data removed]"
          },
          "metadata": {
            "needs_background": "light"
          }
        }
      ]
    },
    {
      "cell_type": "code",
      "source": [
        "plt.plot(fitModel.history['loss'])\n",
        "plt.plot(fitModel.history['val_loss'])\n",
        "plt.legend(['Training loss', 'Validation loss'])\n",
        "plt.title('Trianing and Validation Losses')\n",
        "plt.xlabel('Epoch#')\n",
        "plt.ylabel('Loss')"
      ],
      "metadata": {
        "colab": {
          "base_uri": "https://localhost:8080/",
          "height": 313
        },
        "id": "LTdC3Xxyfq2E",
        "outputId": "3cc922b1-5d7e-4ed4-c11f-ff69e344fc63"
      },
      "execution_count": 14,
      "outputs": [
        {
          "output_type": "execute_result",
          "data": {
            "text/plain": [
              "Text(0, 0.5, 'Loss')"
            ]
          },
          "metadata": {},
          "execution_count": 14
        },
        {
          "output_type": "display_data",
          "data": {
            "text/plain": [
              "<Figure size 432x288 with 1 Axes>"
            ],
            "image/png": "[encoded data removed]"
          },
          "metadata": {
            "needs_background": "light"
          }
        }
      ]
    },
    {
      "cell_type": "markdown",
      "source": [
        "(c) Discuss (interpret) the results.\n",
        "\n",
        "\n",
        "It has 1 Input 1 Hidden and 1 Output with the accuracy of 82%"
      ],
      "metadata": {
        "id": "WvTqrxxSh20v"
      }
    },
    {
      "cell_type": "code",
      "source": [
        "test_predict = model2.predict(test_x)\n",
        "test_predict_labels = np.argmax(test_predict, axis = 1)\n",
        "confusion_matrix = tf.math.confusion_matrix(labels = test_y, predictions = test_predict_labels)\n",
        "print('confusion Matrix\\n', confusion_matrix)\n"
      ],
      "metadata": {
        "colab": {
          "base_uri": "https://localhost:8080/"
        },
        "id": "9p47bLQrfrFX",
        "outputId": "7426699c-14d6-425b-ddfb-068b75466239"
      },
      "execution_count": 58,
      "outputs": [
        {
          "output_type": "stream",
          "name": "stdout",
          "text": [
            "32/32 [==============================] - 0s 1ms/step\n",
            "confusion Matrix\n",
            " tf.Tensor(\n",
            "[[804   0]\n",
            " [196   0]], shape=(2, 2), dtype=int32)\n"
          ]
        }
      ]
    },
    {
      "cell_type": "markdown",
      "source": [
        "(d) Add a second hidden layer, and train a few architectures with 2 hidden layers. Report what\n",
        "architectures you tried (expressed as 5-h1-h2-1, i.e., 5 input, h1 hidden in first layer, h2 hidden\n",
        "in second layer, and one output unit),\n",
        "\n",
        "Adding one more hidden layer - 5 Input, Hidden Layer1, Hidden Layer2 and one output"
      ],
      "metadata": {
        "id": "DuwwLnrHiB9I"
      }
    },
    {
      "cell_type": "code",
      "source": [
        "model2 = tf.keras.Sequential()\n",
        "model2.add(Dense(16, activation='relu',input_shape=(5, ))) \n",
        "model2.add(Dense(32, activation='softplus'))\n",
        "model2.add(Dense(32, activation='softplus')) \n",
        "model2.add(Dense(1, activation='sigmoid')) \n",
        "\n",
        "model2.summary()"
      ],
      "metadata": {
        "colab": {
          "base_uri": "https://localhost:8080/"
        },
        "id": "OS3sCfIogAW0",
        "outputId": "55e1fda1-61e4-4e70-f096-83cf464f7801"
      },
      "execution_count": 59,
      "outputs": [
        {
          "output_type": "stream",
          "name": "stdout",
          "text": [
            "Model: \"sequential_3\"\n",
            "_________________________________________________________________\n",
            " Layer (type)                Output Shape              Param #   \n",
            "=================================================================\n",
            " dense_11 (Dense)            (None, 16)                96        \n",
            "                                                                 \n",
            " dense_12 (Dense)            (None, 32)                544       \n",
            "                                                                 \n",
            " dense_13 (Dense)            (None, 32)                1056      \n",
            "                                                                 \n",
            " dense_14 (Dense)            (None, 1)                 33        \n",
            "                                                                 \n",
            "=================================================================\n",
            "Total params: 1,729\n",
            "Trainable params: 1,729\n",
            "Non-trainable params: 0\n",
            "_________________________________________________________________\n"
          ]
        }
      ]
    },
    {
      "cell_type": "code",
      "source": [
        "lossfunction = tf.keras.losses.BinaryCrossentropy()\n",
        "model2.compile(optimizer= 'adam', loss= lossfunction, metrics=['accuracy'])"
      ],
      "metadata": {
        "id": "9-yoyhSggAjj"
      },
      "execution_count": 50,
      "outputs": []
    },
    {
      "cell_type": "code",
      "source": [
        "fitmodel = model2.fit(train_x, train_y, epochs=5, validation_split=0.3)"
      ],
      "metadata": {
        "colab": {
          "base_uri": "https://localhost:8080/"
        },
        "id": "-jp1BiaRgAwd",
        "outputId": "d14f1f83-098e-47b8-dafc-e63336976d4a"
      },
      "execution_count": 51,
      "outputs": [
        {
          "output_type": "stream",
          "name": "stdout",
          "text": [
            "Epoch 1/5\n",
            "88/88 [==============================] - 1s 5ms/step - loss: 3.6715 - accuracy: 0.7211 - val_loss: 0.5856 - val_accuracy: 0.7517\n",
            "Epoch 2/5\n",
            "88/88 [==============================] - 0s 3ms/step - loss: 0.5406 - accuracy: 0.7843 - val_loss: 0.5178 - val_accuracy: 0.7433\n",
            "Epoch 3/5\n",
            "88/88 [==============================] - 0s 2ms/step - loss: 0.5434 - accuracy: 0.7804 - val_loss: 0.7880 - val_accuracy: 0.6208\n",
            "Epoch 4/5\n",
            "88/88 [==============================] - 0s 3ms/step - loss: 0.5907 - accuracy: 0.7743 - val_loss: 0.5066 - val_accuracy: 0.7992\n",
            "Epoch 5/5\n",
            "88/88 [==============================] - 0s 2ms/step - loss: 0.5358 - accuracy: 0.7989 - val_loss: 0.6190 - val_accuracy: 0.6933\n"
          ]
        }
      ]
    },
    {
      "cell_type": "code",
      "source": [
        "training_loss, training_acc = model2.evaluate(train_x, train_y)\n",
        "testing_loss, testing_acc = model2.evaluate(test_x, test_y)"
      ],
      "metadata": {
        "colab": {
          "base_uri": "https://localhost:8080/"
        },
        "id": "HpRoYAxUgSSJ",
        "outputId": "2fbf76b1-d583-4b8c-9dbc-5bee1e1117c1"
      },
      "execution_count": 52,
      "outputs": [
        {
          "output_type": "stream",
          "name": "stdout",
          "text": [
            "125/125 [==============================] - 0s 3ms/step - loss: 0.6135 - accuracy: 0.6950\n",
            "32/32 [==============================] - 0s 1ms/step - loss: 0.6361 - accuracy: 0.6830\n"
          ]
        }
      ]
    },
    {
      "cell_type": "code",
      "source": [
        "pred = model2.predict(test_x)\n",
        "test_pred = np.argmax(pred, axis = 1)\n",
        "confusion_matrix = tf.math.confusion_matrix(labels= test_y, predictions=test_pred)\n",
        "print(confusion_matrix)"
      ],
      "metadata": {
        "colab": {
          "base_uri": "https://localhost:8080/"
        },
        "id": "93pVWfWvgSou",
        "outputId": "f70dce8e-62cd-431b-a5e9-a0d41b522d2d"
      },
      "execution_count": 53,
      "outputs": [
        {
          "output_type": "stream",
          "name": "stdout",
          "text": [
            "32/32 [==============================] - 0s 955us/step\n",
            "tf.Tensor(\n",
            "[[804   0]\n",
            " [196   0]], shape=(2, 2), dtype=int32)\n"
          ]
        }
      ]
    },
    {
      "cell_type": "code",
      "source": [
        "fitModel = model2.fit(train_x, train_y, epochs = 5, validation_split = 0.3)\n",
        "\n",
        "\n",
        "plt.plot(fitModel.history['accuracy'])\n",
        "plt.plot(fitModel.history['val_accuracy'])\n",
        "plt.legend(['Training accuracy', 'Validation accuracy'])\n",
        "plt.title('Trianing and Validation Accuracies')\n",
        "plt.xlabel('Epoch#')\n",
        "plt.ylabel('Accuracy')"
      ],
      "metadata": {
        "colab": {
          "base_uri": "https://localhost:8080/",
          "height": 514
        },
        "id": "qgA0tQ0WgapO",
        "outputId": "d4cda5a3-0605-432b-b9d4-433826ff3d70"
      },
      "execution_count": 54,
      "outputs": [
        {
          "output_type": "stream",
          "name": "stdout",
          "text": [
            "Epoch 1/5\n",
            "88/88 [==============================] - 0s 3ms/step - loss: 0.4907 - accuracy: 0.7957 - val_loss: 0.4826 - val_accuracy: 0.8067\n",
            "Epoch 2/5\n",
            "88/88 [==============================] - 0s 3ms/step - loss: 0.4587 - accuracy: 0.8096 - val_loss: 0.4538 - val_accuracy: 0.7842\n",
            "Epoch 3/5\n",
            "88/88 [==============================] - 0s 2ms/step - loss: 0.5436 - accuracy: 0.7954 - val_loss: 0.9428 - val_accuracy: 0.8017\n",
            "Epoch 4/5\n",
            "88/88 [==============================] - 0s 2ms/step - loss: 0.5683 - accuracy: 0.7846 - val_loss: 0.4398 - val_accuracy: 0.8075\n",
            "Epoch 5/5\n",
            "88/88 [==============================] - 0s 2ms/step - loss: 0.4956 - accuracy: 0.8054 - val_loss: 0.6249 - val_accuracy: 0.6975\n"
          ]
        },
        {
          "output_type": "execute_result",
          "data": {
            "text/plain": [
              "Text(0, 0.5, 'Accuracy')"
            ]
          },
          "metadata": {},
          "execution_count": 54
        },
        {
          "output_type": "display_data",
          "data": {
            "text/plain": [
              "<Figure size 432x288 with 1 Axes>"
            ],
            "image/png": "[encoded data removed]"
          },
          "metadata": {
            "needs_background": "light"
          }
        }
      ]
    },
    {
      "cell_type": "code",
      "source": [
        "plt.plot(fitModel.history['loss'])\n",
        "plt.plot(fitModel.history['val_loss'])\n",
        "plt.legend(['Training loss', 'Validation loss'])\n",
        "plt.title('Trianing and Validation Losses')\n",
        "plt.xlabel('Epoch#')\n",
        "plt.ylabel('Loss')"
      ],
      "metadata": {
        "colab": {
          "base_uri": "https://localhost:8080/",
          "height": 313
        },
        "id": "5P_UVBriga2l",
        "outputId": "41812ab0-6896-4449-90c4-874ee8e540de"
      },
      "execution_count": 55,
      "outputs": [
        {
          "output_type": "execute_result",
          "data": {
            "text/plain": [
              "Text(0, 0.5, 'Loss')"
            ]
          },
          "metadata": {},
          "execution_count": 55
        },
        {
          "output_type": "display_data",
          "data": {
            "text/plain": [
              "<Figure size 432x288 with 1 Axes>"
            ],
            "image/png": "[encoded data removed]"
          },
          "metadata": {
            "needs_background": "light"
          }
        }
      ]
    }
  ]
}